{
  "nbformat": 4,
  "nbformat_minor": 2,
  "metadata": {
    "colab": {
      "name": "200070007_A6.ipynb",
      "provenance": [],
      "collapsed_sections": []
    },
    "kernelspec": {
      "name": "python3",
      "display_name": "Python 3"
    },
    "language_info": {
      "name": "python"
    }
  },
  "cells": [
    {
      "cell_type": "markdown",
      "source": [
        "# ASSIGNMENT 6"
      ],
      "metadata": {
        "id": "S5vXEl0teohF"
      }
    },
    {
      "cell_type": "markdown",
      "source": [
        "\n",
        "\n",
        "---\n",
        "\n",
        "\n",
        "\n",
        "---\n",
        "\n"
      ],
      "metadata": {
        "id": "4NzDjieSjRku"
      }
    },
    {
      "cell_type": "markdown",
      "source": [
        "# 1 &nbsp; **Linear Regression**"
      ],
      "metadata": {
        "id": "dWLgwoFajCdd"
      }
    },
    {
      "cell_type": "markdown",
      "source": [
        "---\n",
        "Mounting Google Drive"
      ],
      "metadata": {
        "id": "LdAbN4y7ggbl"
      }
    },
    {
      "cell_type": "code",
      "execution_count": 1,
      "source": [
        "from google.colab import drive\r\n",
        "drive.mount('/content/gdrive')"
      ],
      "outputs": [
        {
          "output_type": "stream",
          "name": "stdout",
          "text": [
            "Mounted at /content/gdrive\n"
          ]
        }
      ],
      "metadata": {
        "id": "xsb5P2B1HQRH",
        "colab": {
          "base_uri": "https://localhost:8080/"
        },
        "outputId": "72500c01-124d-47b6-be25-15a3adf72e21"
      }
    },
    {
      "cell_type": "code",
      "execution_count": 2,
      "source": [
        "cd /content/gdrive/MyDrive/Colab/DS203/Assignment_6"
      ],
      "outputs": [
        {
          "output_type": "stream",
          "name": "stdout",
          "text": [
            "/content/gdrive/MyDrive/Colab/DS203/Assignment_6\n"
          ]
        }
      ],
      "metadata": {
        "colab": {
          "base_uri": "https://localhost:8080/"
        },
        "id": "pRTCy6KEe0TL",
        "outputId": "d2456597-e50b-4106-c7c3-a3b1c5d04c48"
      }
    },
    {
      "cell_type": "markdown",
      "source": [
        "---\n",
        "Importing Libraries"
      ],
      "metadata": {
        "id": "3k0q4FnmgmQ0"
      }
    },
    {
      "cell_type": "code",
      "execution_count": 3,
      "source": [
        "import pandas as pd\r\n",
        "import numpy as np\r\n",
        "from sklearn.model_selection import train_test_split\r\n",
        "from sklearn.linear_model import LinearRegression\r\n",
        "from sklearn.linear_model import Ridge\r\n",
        "from sklearn.linear_model import Lasso\r\n",
        "from sklearn.linear_model import LogisticRegression\r\n",
        "from sklearn.metrics import r2_score\r\n",
        "from sklearn.metrics import mean_squared_error"
      ],
      "outputs": [],
      "metadata": {
        "id": "XKzh_5SVfKhL"
      }
    },
    {
      "cell_type": "markdown",
      "source": [
        "---\n",
        "Loading Dataset"
      ],
      "metadata": {
        "id": "5fRvncohgp_G"
      }
    },
    {
      "cell_type": "code",
      "execution_count": 4,
      "source": [
        "data = pd.read_excel(\"dataset_1.xlsx\", skiprows = 1, header = None)\r\n",
        "data = data.iloc[:, 1:] # To remove the 'No' column \r\n",
        "data.head()"
      ],
      "outputs": [
        {
          "output_type": "execute_result",
          "data": {
            "text/html": [
              "<div>\n",
              "<style scoped>\n",
              "    .dataframe tbody tr th:only-of-type {\n",
              "        vertical-align: middle;\n",
              "    }\n",
              "\n",
              "    .dataframe tbody tr th {\n",
              "        vertical-align: top;\n",
              "    }\n",
              "\n",
              "    .dataframe thead th {\n",
              "        text-align: right;\n",
              "    }\n",
              "</style>\n",
              "<table border=\"1\" class=\"dataframe\">\n",
              "  <thead>\n",
              "    <tr style=\"text-align: right;\">\n",
              "      <th></th>\n",
              "      <th>1</th>\n",
              "      <th>2</th>\n",
              "      <th>3</th>\n",
              "      <th>4</th>\n",
              "      <th>5</th>\n",
              "      <th>6</th>\n",
              "      <th>7</th>\n",
              "    </tr>\n",
              "  </thead>\n",
              "  <tbody>\n",
              "    <tr>\n",
              "      <th>0</th>\n",
              "      <td>2012.916667</td>\n",
              "      <td>32.0</td>\n",
              "      <td>84.87882</td>\n",
              "      <td>10</td>\n",
              "      <td>24.98298</td>\n",
              "      <td>121.54024</td>\n",
              "      <td>37.9</td>\n",
              "    </tr>\n",
              "    <tr>\n",
              "      <th>1</th>\n",
              "      <td>2012.916667</td>\n",
              "      <td>19.5</td>\n",
              "      <td>306.59470</td>\n",
              "      <td>9</td>\n",
              "      <td>24.98034</td>\n",
              "      <td>121.53951</td>\n",
              "      <td>42.2</td>\n",
              "    </tr>\n",
              "    <tr>\n",
              "      <th>2</th>\n",
              "      <td>2013.583333</td>\n",
              "      <td>13.3</td>\n",
              "      <td>561.98450</td>\n",
              "      <td>5</td>\n",
              "      <td>24.98746</td>\n",
              "      <td>121.54391</td>\n",
              "      <td>47.3</td>\n",
              "    </tr>\n",
              "    <tr>\n",
              "      <th>3</th>\n",
              "      <td>2013.500000</td>\n",
              "      <td>13.3</td>\n",
              "      <td>561.98450</td>\n",
              "      <td>5</td>\n",
              "      <td>24.98746</td>\n",
              "      <td>121.54391</td>\n",
              "      <td>54.8</td>\n",
              "    </tr>\n",
              "    <tr>\n",
              "      <th>4</th>\n",
              "      <td>2012.833333</td>\n",
              "      <td>5.0</td>\n",
              "      <td>390.56840</td>\n",
              "      <td>5</td>\n",
              "      <td>24.97937</td>\n",
              "      <td>121.54245</td>\n",
              "      <td>43.1</td>\n",
              "    </tr>\n",
              "  </tbody>\n",
              "</table>\n",
              "</div>"
            ],
            "text/plain": [
              "             1     2          3   4         5          6     7\n",
              "0  2012.916667  32.0   84.87882  10  24.98298  121.54024  37.9\n",
              "1  2012.916667  19.5  306.59470   9  24.98034  121.53951  42.2\n",
              "2  2013.583333  13.3  561.98450   5  24.98746  121.54391  47.3\n",
              "3  2013.500000  13.3  561.98450   5  24.98746  121.54391  54.8\n",
              "4  2012.833333   5.0  390.56840   5  24.97937  121.54245  43.1"
            ]
          },
          "metadata": {},
          "execution_count": 4
        }
      ],
      "metadata": {
        "colab": {
          "base_uri": "https://localhost:8080/",
          "height": 206
        },
        "id": "o7Be5SfVf-ak",
        "outputId": "252cb01b-0999-4086-b98d-afa55555f8c5"
      }
    },
    {
      "cell_type": "markdown",
      "source": [
        "According to the dataset the features are as follows:\\\r\n",
        "X1 = **The transaction date**\\\r\n",
        "X2 = **The house age**\\\r\n",
        "X3 = **The distance of the nearest MRT station**\\\r\n",
        "X4 = **The number of convenience stores in the living circle on foot**\\\r\n",
        "X5 = **Latitude**\\\r\n",
        "X6 = **Longitude**"
      ],
      "metadata": {
        "id": "QBfxGH-phxdY"
      }
    },
    {
      "cell_type": "markdown",
      "source": [
        "While the output is:\\\r\n",
        "Y = **House price of unit area**"
      ],
      "metadata": {
        "id": "q74X0gOji1QB"
      }
    },
    {
      "cell_type": "markdown",
      "source": [
        "---\n",
        "Linear Regression Function"
      ],
      "metadata": {
        "id": "WSCGOt5PgsxA"
      }
    },
    {
      "cell_type": "code",
      "execution_count": 5,
      "source": [
        "def myLR(data, split):\r\n",
        "    df = data.copy()\r\n",
        "    X = np.array(df.iloc[:, :6]) # Takes the first 6 columns\r\n",
        "    Y = np.array(df.iloc[:, 6]) # Takes the last output column\r\n",
        "    \r\n",
        "    X_train, X_test, Y_train, Y_test = train_test_split(X, Y, test_size = split) # Splits the dataset acc. to split ratio\r\n",
        "    LR = LinearRegression()\r\n",
        "    LR.fit(X_train, Y_train) # Fitting the model on training data\r\n",
        "\r\n",
        "    Y_predict = LR.predict(X_test) # Predicting all the test data\r\n",
        "    \r\n",
        "    score = r2_score(Y_test, Y_predict) # Calculating the r2 score aginst the test value and predicted values\r\n",
        "    mse = mean_squared_error(Y_test, Y_predict) # The mean squared error of the model\r\n",
        "    \r\n",
        "    return [score, mse, LR.coef_.tolist(), LR.intercept_]"
      ],
      "outputs": [],
      "metadata": {
        "id": "oH3pZo4ugA0R"
      }
    },
    {
      "cell_type": "markdown",
      "source": [
        "---\n",
        "Different Splits for Linear Regression"
      ],
      "metadata": {
        "id": "CNeyrhQgnuiV"
      }
    },
    {
      "cell_type": "code",
      "execution_count": 6,
      "source": [
        "splits = [0.1, 0.2, 0.3, 0.4]"
      ],
      "outputs": [],
      "metadata": {
        "id": "z4etP5YkkrbK"
      }
    },
    {
      "cell_type": "markdown",
      "source": [
        "---\n",
        "r2 Value, Mean Squared Error, Coefficients and Intercept for each Split "
      ],
      "metadata": {
        "id": "G3MSP7wwn4T-"
      }
    },
    {
      "cell_type": "code",
      "execution_count": 7,
      "source": [
        "dict1 = {}\r\n",
        "# The values to report for different splits\r\n",
        "keys = ['Split', 'r2 Value', 'Mean Squared Error', 'Coeff of X1', 'Coeff of X2', 'Coeff of X3', 'Coeff of X4', 'Coeff of X5', 'Coeff of X6', 'Intercept']\r\n",
        "\r\n",
        "for col in keys:\r\n",
        "  dict1[col] = []\r\n",
        "\r\n",
        "# Storing each data in a dictionary for better representation\r\n",
        "for split in splits:\r\n",
        "  score, mse, coeff, intercept = myLR(data, split)\r\n",
        "  dict1[keys[0]].append(split)\r\n",
        "  dict1[keys[1]].append(score)\r\n",
        "  dict1[keys[2]].append(mse)\r\n",
        "  for i in range(6):\r\n",
        "    dict1[keys[3+i]].append(coeff[i])\r\n",
        "  dict1[keys[9]].append(intercept)\r\n",
        "\r\n",
        "display(pd.DataFrame(dict1))"
      ],
      "outputs": [
        {
          "output_type": "display_data",
          "data": {
            "text/html": [
              "<div>\n",
              "<style scoped>\n",
              "    .dataframe tbody tr th:only-of-type {\n",
              "        vertical-align: middle;\n",
              "    }\n",
              "\n",
              "    .dataframe tbody tr th {\n",
              "        vertical-align: top;\n",
              "    }\n",
              "\n",
              "    .dataframe thead th {\n",
              "        text-align: right;\n",
              "    }\n",
              "</style>\n",
              "<table border=\"1\" class=\"dataframe\">\n",
              "  <thead>\n",
              "    <tr style=\"text-align: right;\">\n",
              "      <th></th>\n",
              "      <th>Split</th>\n",
              "      <th>r2 Value</th>\n",
              "      <th>Mean Squared Error</th>\n",
              "      <th>Coeff of X1</th>\n",
              "      <th>Coeff of X2</th>\n",
              "      <th>Coeff of X3</th>\n",
              "      <th>Coeff of X4</th>\n",
              "      <th>Coeff of X5</th>\n",
              "      <th>Coeff of X6</th>\n",
              "      <th>Intercept</th>\n",
              "    </tr>\n",
              "  </thead>\n",
              "  <tbody>\n",
              "    <tr>\n",
              "      <th>0</th>\n",
              "      <td>0.1</td>\n",
              "      <td>0.642577</td>\n",
              "      <td>91.084705</td>\n",
              "      <td>4.455106</td>\n",
              "      <td>-0.290205</td>\n",
              "      <td>-0.004779</td>\n",
              "      <td>1.098177</td>\n",
              "      <td>215.834587</td>\n",
              "      <td>-35.917356</td>\n",
              "      <td>-9949.343141</td>\n",
              "    </tr>\n",
              "    <tr>\n",
              "      <th>1</th>\n",
              "      <td>0.2</td>\n",
              "      <td>0.506750</td>\n",
              "      <td>92.313700</td>\n",
              "      <td>4.767179</td>\n",
              "      <td>-0.285338</td>\n",
              "      <td>-0.004241</td>\n",
              "      <td>1.200502</td>\n",
              "      <td>209.534123</td>\n",
              "      <td>-0.684737</td>\n",
              "      <td>-14703.138771</td>\n",
              "    </tr>\n",
              "    <tr>\n",
              "      <th>2</th>\n",
              "      <td>0.3</td>\n",
              "      <td>0.620301</td>\n",
              "      <td>54.882220</td>\n",
              "      <td>5.068644</td>\n",
              "      <td>-0.289776</td>\n",
              "      <td>-0.004765</td>\n",
              "      <td>1.186342</td>\n",
              "      <td>175.664473</td>\n",
              "      <td>-12.108507</td>\n",
              "      <td>-13075.001842</td>\n",
              "    </tr>\n",
              "    <tr>\n",
              "      <th>3</th>\n",
              "      <td>0.4</td>\n",
              "      <td>0.642386</td>\n",
              "      <td>62.874567</td>\n",
              "      <td>6.486498</td>\n",
              "      <td>-0.288880</td>\n",
              "      <td>-0.004541</td>\n",
              "      <td>1.038179</td>\n",
              "      <td>214.295009</td>\n",
              "      <td>3.633729</td>\n",
              "      <td>-18806.752382</td>\n",
              "    </tr>\n",
              "  </tbody>\n",
              "</table>\n",
              "</div>"
            ],
            "text/plain": [
              "   Split  r2 Value  Mean Squared Error  ...  Coeff of X5  Coeff of X6     Intercept\n",
              "0    0.1  0.642577           91.084705  ...   215.834587   -35.917356  -9949.343141\n",
              "1    0.2  0.506750           92.313700  ...   209.534123    -0.684737 -14703.138771\n",
              "2    0.3  0.620301           54.882220  ...   175.664473   -12.108507 -13075.001842\n",
              "3    0.4  0.642386           62.874567  ...   214.295009     3.633729 -18806.752382\n",
              "\n",
              "[4 rows x 10 columns]"
            ]
          },
          "metadata": {}
        }
      ],
      "metadata": {
        "colab": {
          "base_uri": "https://localhost:8080/",
          "height": 175
        },
        "id": "vkjs_i6Dktp7",
        "outputId": "14aaff48-c480-49e4-bc5e-fe9b2728e89a"
      }
    },
    {
      "cell_type": "markdown",
      "source": [
        "---\n",
        "Different Regression Parameter Values "
      ],
      "metadata": {
        "id": "75mRoJ6uu38j"
      }
    },
    {
      "cell_type": "code",
      "execution_count": 8,
      "source": [
        "lambdas = [0.001, 0.005, 0.01, 0.05, 0.1, 0.5]"
      ],
      "outputs": [],
      "metadata": {
        "id": "NgECx1pSpzQu"
      }
    },
    {
      "cell_type": "markdown",
      "source": [
        "---\n",
        "Ridge Regression "
      ],
      "metadata": {
        "id": "rHdFHP7uodqd"
      }
    },
    {
      "cell_type": "code",
      "execution_count": 9,
      "source": [
        "def myRidge(data, split):\r\n",
        "  df = data.copy()\r\n",
        "  X = np.array(df.iloc[:, :6])\r\n",
        "  Y = np.array(df.iloc[:, 6])\r\n",
        "    \r\n",
        "  X_train, X_test, Y_train, Y_test = train_test_split(X, Y, test_size = split) # Splitting the data according to the split ratio\r\n",
        "\r\n",
        "  scores, mses = [], []\r\n",
        "  # Finding the scores and mses for each regression parameter\r\n",
        "  for lambda_ in lambdas:\r\n",
        "    RR = Ridge(alpha = lambda_)\r\n",
        "    RR.fit(X_train, Y_train)\r\n",
        "    Y_predict = RR.predict(X_test)\r\n",
        "\r\n",
        "    scores.append(r2_score(Y_test, Y_predict))\r\n",
        "    mses.append(mean_squared_error(Y_test, Y_predict))\r\n",
        "\r\n",
        "  return scores, mses"
      ],
      "outputs": [],
      "metadata": {
        "id": "ctaA-lFHooIE"
      }
    },
    {
      "cell_type": "markdown",
      "source": [
        "Dsiplaying the r2 Value and Mean Squared Error for Ridge Regression "
      ],
      "metadata": {
        "id": "iEvGqIhCvAlZ"
      }
    },
    {
      "cell_type": "code",
      "execution_count": 10,
      "source": [
        "dict2 = {}\r\n",
        "keys = ['Split', 'Lambda', 'r2 Value', 'Mean Squared Value']\r\n",
        "\r\n",
        "for col in keys:\r\n",
        "  dict2[col] = []\r\n",
        "\r\n",
        "for split in splits:\r\n",
        "  scores, mses = myRidge(data, split)\r\n",
        "  for i, lambda_ in enumerate(lambdas):\r\n",
        "    dict2[keys[0]].append(split)\r\n",
        "    dict2[keys[1]].append(lambda_)\r\n",
        "    dict2[keys[2]].append(scores[i])\r\n",
        "    dict2[keys[3]].append(mses[i])\r\n",
        "\r\n",
        "display(pd.DataFrame(dict2))"
      ],
      "outputs": [
        {
          "output_type": "display_data",
          "data": {
            "text/html": [
              "<div>\n",
              "<style scoped>\n",
              "    .dataframe tbody tr th:only-of-type {\n",
              "        vertical-align: middle;\n",
              "    }\n",
              "\n",
              "    .dataframe tbody tr th {\n",
              "        vertical-align: top;\n",
              "    }\n",
              "\n",
              "    .dataframe thead th {\n",
              "        text-align: right;\n",
              "    }\n",
              "</style>\n",
              "<table border=\"1\" class=\"dataframe\">\n",
              "  <thead>\n",
              "    <tr style=\"text-align: right;\">\n",
              "      <th></th>\n",
              "      <th>Split</th>\n",
              "      <th>Lambda</th>\n",
              "      <th>r2 Value</th>\n",
              "      <th>Mean Squared Value</th>\n",
              "    </tr>\n",
              "  </thead>\n",
              "  <tbody>\n",
              "    <tr>\n",
              "      <th>0</th>\n",
              "      <td>0.1</td>\n",
              "      <td>0.001</td>\n",
              "      <td>0.497841</td>\n",
              "      <td>99.117677</td>\n",
              "    </tr>\n",
              "    <tr>\n",
              "      <th>1</th>\n",
              "      <td>0.1</td>\n",
              "      <td>0.005</td>\n",
              "      <td>0.494920</td>\n",
              "      <td>99.694239</td>\n",
              "    </tr>\n",
              "    <tr>\n",
              "      <th>2</th>\n",
              "      <td>0.1</td>\n",
              "      <td>0.010</td>\n",
              "      <td>0.491785</td>\n",
              "      <td>100.313034</td>\n",
              "    </tr>\n",
              "    <tr>\n",
              "      <th>3</th>\n",
              "      <td>0.1</td>\n",
              "      <td>0.050</td>\n",
              "      <td>0.477803</td>\n",
              "      <td>103.072893</td>\n",
              "    </tr>\n",
              "    <tr>\n",
              "      <th>4</th>\n",
              "      <td>0.1</td>\n",
              "      <td>0.100</td>\n",
              "      <td>0.470813</td>\n",
              "      <td>104.452486</td>\n",
              "    </tr>\n",
              "    <tr>\n",
              "      <th>5</th>\n",
              "      <td>0.1</td>\n",
              "      <td>0.500</td>\n",
              "      <td>0.460939</td>\n",
              "      <td>106.401491</td>\n",
              "    </tr>\n",
              "    <tr>\n",
              "      <th>6</th>\n",
              "      <td>0.2</td>\n",
              "      <td>0.001</td>\n",
              "      <td>0.496922</td>\n",
              "      <td>113.570122</td>\n",
              "    </tr>\n",
              "    <tr>\n",
              "      <th>7</th>\n",
              "      <td>0.2</td>\n",
              "      <td>0.005</td>\n",
              "      <td>0.498302</td>\n",
              "      <td>113.258534</td>\n",
              "    </tr>\n",
              "    <tr>\n",
              "      <th>8</th>\n",
              "      <td>0.2</td>\n",
              "      <td>0.010</td>\n",
              "      <td>0.498853</td>\n",
              "      <td>113.134212</td>\n",
              "    </tr>\n",
              "    <tr>\n",
              "      <th>9</th>\n",
              "      <td>0.2</td>\n",
              "      <td>0.050</td>\n",
              "      <td>0.494975</td>\n",
              "      <td>114.009774</td>\n",
              "    </tr>\n",
              "    <tr>\n",
              "      <th>10</th>\n",
              "      <td>0.2</td>\n",
              "      <td>0.100</td>\n",
              "      <td>0.491110</td>\n",
              "      <td>114.882216</td>\n",
              "    </tr>\n",
              "    <tr>\n",
              "      <th>11</th>\n",
              "      <td>0.2</td>\n",
              "      <td>0.500</td>\n",
              "      <td>0.484693</td>\n",
              "      <td>116.330889</td>\n",
              "    </tr>\n",
              "    <tr>\n",
              "      <th>12</th>\n",
              "      <td>0.3</td>\n",
              "      <td>0.001</td>\n",
              "      <td>0.553186</td>\n",
              "      <td>104.867073</td>\n",
              "    </tr>\n",
              "    <tr>\n",
              "      <th>13</th>\n",
              "      <td>0.3</td>\n",
              "      <td>0.005</td>\n",
              "      <td>0.550509</td>\n",
              "      <td>105.495485</td>\n",
              "    </tr>\n",
              "    <tr>\n",
              "      <th>14</th>\n",
              "      <td>0.3</td>\n",
              "      <td>0.010</td>\n",
              "      <td>0.547658</td>\n",
              "      <td>106.164410</td>\n",
              "    </tr>\n",
              "    <tr>\n",
              "      <th>15</th>\n",
              "      <td>0.3</td>\n",
              "      <td>0.050</td>\n",
              "      <td>0.535606</td>\n",
              "      <td>108.993213</td>\n",
              "    </tr>\n",
              "    <tr>\n",
              "      <th>16</th>\n",
              "      <td>0.3</td>\n",
              "      <td>0.100</td>\n",
              "      <td>0.530057</td>\n",
              "      <td>110.295556</td>\n",
              "    </tr>\n",
              "    <tr>\n",
              "      <th>17</th>\n",
              "      <td>0.3</td>\n",
              "      <td>0.500</td>\n",
              "      <td>0.522599</td>\n",
              "      <td>112.045750</td>\n",
              "    </tr>\n",
              "    <tr>\n",
              "      <th>18</th>\n",
              "      <td>0.4</td>\n",
              "      <td>0.001</td>\n",
              "      <td>0.498293</td>\n",
              "      <td>105.091513</td>\n",
              "    </tr>\n",
              "    <tr>\n",
              "      <th>19</th>\n",
              "      <td>0.4</td>\n",
              "      <td>0.005</td>\n",
              "      <td>0.495105</td>\n",
              "      <td>105.759293</td>\n",
              "    </tr>\n",
              "    <tr>\n",
              "      <th>20</th>\n",
              "      <td>0.4</td>\n",
              "      <td>0.010</td>\n",
              "      <td>0.491517</td>\n",
              "      <td>106.510860</td>\n",
              "    </tr>\n",
              "    <tr>\n",
              "      <th>21</th>\n",
              "      <td>0.4</td>\n",
              "      <td>0.050</td>\n",
              "      <td>0.477007</td>\n",
              "      <td>109.550335</td>\n",
              "    </tr>\n",
              "    <tr>\n",
              "      <th>22</th>\n",
              "      <td>0.4</td>\n",
              "      <td>0.100</td>\n",
              "      <td>0.471092</td>\n",
              "      <td>110.789219</td>\n",
              "    </tr>\n",
              "    <tr>\n",
              "      <th>23</th>\n",
              "      <td>0.4</td>\n",
              "      <td>0.500</td>\n",
              "      <td>0.463794</td>\n",
              "      <td>112.318038</td>\n",
              "    </tr>\n",
              "  </tbody>\n",
              "</table>\n",
              "</div>"
            ],
            "text/plain": [
              "    Split  Lambda  r2 Value  Mean Squared Value\n",
              "0     0.1   0.001  0.497841           99.117677\n",
              "1     0.1   0.005  0.494920           99.694239\n",
              "2     0.1   0.010  0.491785          100.313034\n",
              "3     0.1   0.050  0.477803          103.072893\n",
              "4     0.1   0.100  0.470813          104.452486\n",
              "5     0.1   0.500  0.460939          106.401491\n",
              "6     0.2   0.001  0.496922          113.570122\n",
              "7     0.2   0.005  0.498302          113.258534\n",
              "8     0.2   0.010  0.498853          113.134212\n",
              "9     0.2   0.050  0.494975          114.009774\n",
              "10    0.2   0.100  0.491110          114.882216\n",
              "11    0.2   0.500  0.484693          116.330889\n",
              "12    0.3   0.001  0.553186          104.867073\n",
              "13    0.3   0.005  0.550509          105.495485\n",
              "14    0.3   0.010  0.547658          106.164410\n",
              "15    0.3   0.050  0.535606          108.993213\n",
              "16    0.3   0.100  0.530057          110.295556\n",
              "17    0.3   0.500  0.522599          112.045750\n",
              "18    0.4   0.001  0.498293          105.091513\n",
              "19    0.4   0.005  0.495105          105.759293\n",
              "20    0.4   0.010  0.491517          106.510860\n",
              "21    0.4   0.050  0.477007          109.550335\n",
              "22    0.4   0.100  0.471092          110.789219\n",
              "23    0.4   0.500  0.463794          112.318038"
            ]
          },
          "metadata": {}
        }
      ],
      "metadata": {
        "colab": {
          "base_uri": "https://localhost:8080/",
          "height": 802
        },
        "id": "ehwN198TqWgI",
        "outputId": "dcf6ddf6-c20a-4949-f085-4cfd5db64261"
      }
    },
    {
      "cell_type": "markdown",
      "source": [
        "---\n",
        "LASSO Regression"
      ],
      "metadata": {
        "id": "sagmOIKNuSRH"
      }
    },
    {
      "cell_type": "code",
      "execution_count": 11,
      "source": [
        "def myLASSO(data, split):\r\n",
        "  df = data.copy()\r\n",
        "  X = np.array(df.iloc[:, :6])\r\n",
        "  Y = np.array(df.iloc[:, 6])\r\n",
        "    \r\n",
        "  X_train, X_test, Y_train, Y_test = train_test_split(X, Y, test_size = split)\r\n",
        "\r\n",
        "  scores, mses = [], []\r\n",
        "  for lambda_ in lambdas:\r\n",
        "    LA = Lasso(alpha = lambda_)\r\n",
        "    LA.fit(X_train, Y_train)\r\n",
        "    Y_predict = LA.predict(X_test)\r\n",
        "\r\n",
        "    scores.append(r2_score(Y_test, Y_predict))\r\n",
        "    mses.append(mean_squared_error(Y_test, Y_predict))\r\n",
        "\r\n",
        "  return scores, mses"
      ],
      "outputs": [],
      "metadata": {
        "id": "CO9RB-Eqr3Wo"
      }
    },
    {
      "cell_type": "markdown",
      "source": [
        "---\n",
        "Displaying the r2 Value and Mean Squared Error for LASSO Regression"
      ],
      "metadata": {
        "id": "yfZG4F68vK7T"
      }
    },
    {
      "cell_type": "code",
      "execution_count": 12,
      "source": [
        "dict3 = {}\r\n",
        "keys = ['Split', 'Lambda', 'r2 Value', 'Mean Squared Value']\r\n",
        "\r\n",
        "for col in keys:\r\n",
        "  dict3[col] = []\r\n",
        "\r\n",
        "for split in splits:\r\n",
        "  scores, mses = myLASSO(data, split)\r\n",
        "  for i, lambda_ in enumerate(lambdas):\r\n",
        "    dict3[keys[0]].append(split)\r\n",
        "    dict3[keys[1]].append(lambda_)\r\n",
        "    dict3[keys[2]].append(scores[i])\r\n",
        "    dict3[keys[3]].append(mses[i])\r\n",
        "\r\n",
        "display(pd.DataFrame(dict3))"
      ],
      "outputs": [
        {
          "output_type": "display_data",
          "data": {
            "text/html": [
              "<div>\n",
              "<style scoped>\n",
              "    .dataframe tbody tr th:only-of-type {\n",
              "        vertical-align: middle;\n",
              "    }\n",
              "\n",
              "    .dataframe tbody tr th {\n",
              "        vertical-align: top;\n",
              "    }\n",
              "\n",
              "    .dataframe thead th {\n",
              "        text-align: right;\n",
              "    }\n",
              "</style>\n",
              "<table border=\"1\" class=\"dataframe\">\n",
              "  <thead>\n",
              "    <tr style=\"text-align: right;\">\n",
              "      <th></th>\n",
              "      <th>Split</th>\n",
              "      <th>Lambda</th>\n",
              "      <th>r2 Value</th>\n",
              "      <th>Mean Squared Value</th>\n",
              "    </tr>\n",
              "  </thead>\n",
              "  <tbody>\n",
              "    <tr>\n",
              "      <th>0</th>\n",
              "      <td>0.1</td>\n",
              "      <td>0.001</td>\n",
              "      <td>0.561307</td>\n",
              "      <td>62.311810</td>\n",
              "    </tr>\n",
              "    <tr>\n",
              "      <th>1</th>\n",
              "      <td>0.1</td>\n",
              "      <td>0.005</td>\n",
              "      <td>0.562674</td>\n",
              "      <td>62.117624</td>\n",
              "    </tr>\n",
              "    <tr>\n",
              "      <th>2</th>\n",
              "      <td>0.1</td>\n",
              "      <td>0.010</td>\n",
              "      <td>0.558519</td>\n",
              "      <td>62.707813</td>\n",
              "    </tr>\n",
              "    <tr>\n",
              "      <th>3</th>\n",
              "      <td>0.1</td>\n",
              "      <td>0.050</td>\n",
              "      <td>0.526083</td>\n",
              "      <td>67.315034</td>\n",
              "    </tr>\n",
              "    <tr>\n",
              "      <th>4</th>\n",
              "      <td>0.1</td>\n",
              "      <td>0.100</td>\n",
              "      <td>0.527027</td>\n",
              "      <td>67.180950</td>\n",
              "    </tr>\n",
              "    <tr>\n",
              "      <th>5</th>\n",
              "      <td>0.1</td>\n",
              "      <td>0.500</td>\n",
              "      <td>0.515167</td>\n",
              "      <td>68.865520</td>\n",
              "    </tr>\n",
              "    <tr>\n",
              "      <th>6</th>\n",
              "      <td>0.2</td>\n",
              "      <td>0.001</td>\n",
              "      <td>0.651194</td>\n",
              "      <td>79.884542</td>\n",
              "    </tr>\n",
              "    <tr>\n",
              "      <th>7</th>\n",
              "      <td>0.2</td>\n",
              "      <td>0.005</td>\n",
              "      <td>0.640515</td>\n",
              "      <td>82.330261</td>\n",
              "    </tr>\n",
              "    <tr>\n",
              "      <th>8</th>\n",
              "      <td>0.2</td>\n",
              "      <td>0.010</td>\n",
              "      <td>0.624306</td>\n",
              "      <td>86.042390</td>\n",
              "    </tr>\n",
              "    <tr>\n",
              "      <th>9</th>\n",
              "      <td>0.2</td>\n",
              "      <td>0.050</td>\n",
              "      <td>0.599348</td>\n",
              "      <td>91.758356</td>\n",
              "    </tr>\n",
              "    <tr>\n",
              "      <th>10</th>\n",
              "      <td>0.2</td>\n",
              "      <td>0.100</td>\n",
              "      <td>0.598870</td>\n",
              "      <td>91.867940</td>\n",
              "    </tr>\n",
              "    <tr>\n",
              "      <th>11</th>\n",
              "      <td>0.2</td>\n",
              "      <td>0.500</td>\n",
              "      <td>0.585800</td>\n",
              "      <td>94.861140</td>\n",
              "    </tr>\n",
              "    <tr>\n",
              "      <th>12</th>\n",
              "      <td>0.3</td>\n",
              "      <td>0.001</td>\n",
              "      <td>0.391039</td>\n",
              "      <td>120.415008</td>\n",
              "    </tr>\n",
              "    <tr>\n",
              "      <th>13</th>\n",
              "      <td>0.3</td>\n",
              "      <td>0.005</td>\n",
              "      <td>0.386519</td>\n",
              "      <td>121.308801</td>\n",
              "    </tr>\n",
              "    <tr>\n",
              "      <th>14</th>\n",
              "      <td>0.3</td>\n",
              "      <td>0.010</td>\n",
              "      <td>0.378035</td>\n",
              "      <td>122.986387</td>\n",
              "    </tr>\n",
              "    <tr>\n",
              "      <th>15</th>\n",
              "      <td>0.3</td>\n",
              "      <td>0.050</td>\n",
              "      <td>0.351952</td>\n",
              "      <td>128.144128</td>\n",
              "    </tr>\n",
              "    <tr>\n",
              "      <th>16</th>\n",
              "      <td>0.3</td>\n",
              "      <td>0.100</td>\n",
              "      <td>0.349548</td>\n",
              "      <td>128.619409</td>\n",
              "    </tr>\n",
              "    <tr>\n",
              "      <th>17</th>\n",
              "      <td>0.3</td>\n",
              "      <td>0.500</td>\n",
              "      <td>0.334782</td>\n",
              "      <td>131.539213</td>\n",
              "    </tr>\n",
              "    <tr>\n",
              "      <th>18</th>\n",
              "      <td>0.4</td>\n",
              "      <td>0.001</td>\n",
              "      <td>0.631039</td>\n",
              "      <td>68.381786</td>\n",
              "    </tr>\n",
              "    <tr>\n",
              "      <th>19</th>\n",
              "      <td>0.4</td>\n",
              "      <td>0.005</td>\n",
              "      <td>0.623749</td>\n",
              "      <td>69.732792</td>\n",
              "    </tr>\n",
              "    <tr>\n",
              "      <th>20</th>\n",
              "      <td>0.4</td>\n",
              "      <td>0.010</td>\n",
              "      <td>0.610582</td>\n",
              "      <td>72.173061</td>\n",
              "    </tr>\n",
              "    <tr>\n",
              "      <th>21</th>\n",
              "      <td>0.4</td>\n",
              "      <td>0.050</td>\n",
              "      <td>0.592714</td>\n",
              "      <td>75.484714</td>\n",
              "    </tr>\n",
              "    <tr>\n",
              "      <th>22</th>\n",
              "      <td>0.4</td>\n",
              "      <td>0.100</td>\n",
              "      <td>0.591430</td>\n",
              "      <td>75.722628</td>\n",
              "    </tr>\n",
              "    <tr>\n",
              "      <th>23</th>\n",
              "      <td>0.4</td>\n",
              "      <td>0.500</td>\n",
              "      <td>0.575877</td>\n",
              "      <td>78.605201</td>\n",
              "    </tr>\n",
              "  </tbody>\n",
              "</table>\n",
              "</div>"
            ],
            "text/plain": [
              "    Split  Lambda  r2 Value  Mean Squared Value\n",
              "0     0.1   0.001  0.561307           62.311810\n",
              "1     0.1   0.005  0.562674           62.117624\n",
              "2     0.1   0.010  0.558519           62.707813\n",
              "3     0.1   0.050  0.526083           67.315034\n",
              "4     0.1   0.100  0.527027           67.180950\n",
              "5     0.1   0.500  0.515167           68.865520\n",
              "6     0.2   0.001  0.651194           79.884542\n",
              "7     0.2   0.005  0.640515           82.330261\n",
              "8     0.2   0.010  0.624306           86.042390\n",
              "9     0.2   0.050  0.599348           91.758356\n",
              "10    0.2   0.100  0.598870           91.867940\n",
              "11    0.2   0.500  0.585800           94.861140\n",
              "12    0.3   0.001  0.391039          120.415008\n",
              "13    0.3   0.005  0.386519          121.308801\n",
              "14    0.3   0.010  0.378035          122.986387\n",
              "15    0.3   0.050  0.351952          128.144128\n",
              "16    0.3   0.100  0.349548          128.619409\n",
              "17    0.3   0.500  0.334782          131.539213\n",
              "18    0.4   0.001  0.631039           68.381786\n",
              "19    0.4   0.005  0.623749           69.732792\n",
              "20    0.4   0.010  0.610582           72.173061\n",
              "21    0.4   0.050  0.592714           75.484714\n",
              "22    0.4   0.100  0.591430           75.722628\n",
              "23    0.4   0.500  0.575877           78.605201"
            ]
          },
          "metadata": {}
        }
      ],
      "metadata": {
        "colab": {
          "base_uri": "https://localhost:8080/",
          "height": 802
        },
        "id": "wdWXlUvtujiM",
        "outputId": "c9ffd90d-a964-45da-b8ee-0987e17e3df2"
      }
    },
    {
      "cell_type": "markdown",
      "source": [
        "---\n",
        "---\n",
        "# 2 &nbsp; **Logistic Regression**"
      ],
      "metadata": {
        "id": "u8sBwH-wvXU8"
      }
    },
    {
      "cell_type": "code",
      "execution_count": 13,
      "source": [
        "data = pd.read_table('haberman.data', sep = ',', header = None)\n",
        "data.head()"
      ],
      "outputs": [
        {
          "output_type": "execute_result",
          "data": {
            "text/html": [
              "<div>\n",
              "<style scoped>\n",
              "    .dataframe tbody tr th:only-of-type {\n",
              "        vertical-align: middle;\n",
              "    }\n",
              "\n",
              "    .dataframe tbody tr th {\n",
              "        vertical-align: top;\n",
              "    }\n",
              "\n",
              "    .dataframe thead th {\n",
              "        text-align: right;\n",
              "    }\n",
              "</style>\n",
              "<table border=\"1\" class=\"dataframe\">\n",
              "  <thead>\n",
              "    <tr style=\"text-align: right;\">\n",
              "      <th></th>\n",
              "      <th>0</th>\n",
              "      <th>1</th>\n",
              "      <th>2</th>\n",
              "      <th>3</th>\n",
              "    </tr>\n",
              "  </thead>\n",
              "  <tbody>\n",
              "    <tr>\n",
              "      <th>0</th>\n",
              "      <td>30</td>\n",
              "      <td>64</td>\n",
              "      <td>1</td>\n",
              "      <td>1</td>\n",
              "    </tr>\n",
              "    <tr>\n",
              "      <th>1</th>\n",
              "      <td>30</td>\n",
              "      <td>62</td>\n",
              "      <td>3</td>\n",
              "      <td>1</td>\n",
              "    </tr>\n",
              "    <tr>\n",
              "      <th>2</th>\n",
              "      <td>30</td>\n",
              "      <td>65</td>\n",
              "      <td>0</td>\n",
              "      <td>1</td>\n",
              "    </tr>\n",
              "    <tr>\n",
              "      <th>3</th>\n",
              "      <td>31</td>\n",
              "      <td>59</td>\n",
              "      <td>2</td>\n",
              "      <td>1</td>\n",
              "    </tr>\n",
              "    <tr>\n",
              "      <th>4</th>\n",
              "      <td>31</td>\n",
              "      <td>65</td>\n",
              "      <td>4</td>\n",
              "      <td>1</td>\n",
              "    </tr>\n",
              "  </tbody>\n",
              "</table>\n",
              "</div>"
            ],
            "text/plain": [
              "    0   1  2  3\n",
              "0  30  64  1  1\n",
              "1  30  62  3  1\n",
              "2  30  65  0  1\n",
              "3  31  59  2  1\n",
              "4  31  65  4  1"
            ]
          },
          "metadata": {},
          "execution_count": 13
        }
      ],
      "metadata": {
        "colab": {
          "base_uri": "https://localhost:8080/",
          "height": 206
        },
        "id": "HrMO4ln7vdLK",
        "outputId": "e65c138d-2fa7-4c48-b862-2b4ca0e786e8"
      }
    },
    {
      "cell_type": "markdown",
      "source": [
        "According to the dataset the features are as follows:\\\n",
        "X1 = **Age of patient at the time of operation**\\\n",
        "X2 = **Patient's year of operation**\\\n",
        "X3 = **Number of Positive axillary nodes detected**"
      ],
      "metadata": {
        "id": "iv7AxZE1wcXr"
      }
    },
    {
      "cell_type": "markdown",
      "source": [
        "While the output is:\\\n",
        "Y = **Survival Status**\n",
        "\n",
        "*   Y = 1 --> *The patient survived five years or longer*\n",
        "*   Y = 2 --> *The patient died within five years*\n",
        "\n"
      ],
      "metadata": {
        "id": "4fVwAE1Dw2Z9"
      }
    },
    {
      "cell_type": "markdown",
      "source": [
        "---\n",
        "Logistic Regression Function"
      ],
      "metadata": {
        "id": "bPLtdhDgxi3B"
      }
    },
    {
      "cell_type": "code",
      "execution_count": 15,
      "source": [
        "def myLogistic(data, split):\n",
        "  df = data.copy()\n",
        "  X = np.array(df.iloc[:, :3])\n",
        "  Y = np.array(df.iloc[:, 3])\n",
        "    \n",
        "  X_train, X_test, Y_train, Y_test = train_test_split(X, Y, test_size = split)\n",
        "  # Creating a Logistic Regression Modle and fitting it for train dataset\n",
        "  LogR = LogisticRegression()\n",
        "  LogR.fit(X_train, Y_train)\n",
        "\n",
        "  # Predicting for the test features\n",
        "  Y_predict = LogR.predict(X_test)\n",
        "  # Calculating the Classification Error \n",
        "  m = Y_predict.shape[0]\n",
        "  cse = 0\n",
        "  for i in range(m):\n",
        "    if(Y_predict[i] != Y_test[i]):\n",
        "      cse += 1\n",
        "  \n",
        "  cse = cse/m\n",
        "\n",
        "  return cse, LogR.coef_.tolist(), LogR.intercept_.tolist()"
      ],
      "outputs": [],
      "metadata": {
        "id": "npWTkcdnv7q7"
      }
    },
    {
      "cell_type": "markdown",
      "source": [
        "---\n",
        "Displaying the Coefficients, Intercept and Classification Error for each Split"
      ],
      "metadata": {
        "id": "hiLTDtHZ2c_S"
      }
    },
    {
      "cell_type": "code",
      "execution_count": 17,
      "source": [
        "dict4 = {}\n",
        "keys = ['Split', 'Coeff of X1', 'Coeff of X2', 'Coeff of X3', 'Intercept', 'Classification Error']\n",
        "\n",
        "for col in keys:\n",
        "  dict4[col] = []\n",
        "\n",
        "for split in splits:\n",
        "  dict4[keys[0]].append(split)\n",
        "  cse, coeffs, intercept = myLogistic(data, split)\n",
        "  for i in range(3):\n",
        "    dict4[keys[i+1]].append(coeffs[0][i])\n",
        "  dict4[keys[4]].append(intercept[0])\n",
        "  dict4[keys[5]].append(cse)\n",
        "\n",
        "display(pd.DataFrame(dict4))"
      ],
      "outputs": [
        {
          "output_type": "display_data",
          "data": {
            "text/html": [
              "<div>\n",
              "<style scoped>\n",
              "    .dataframe tbody tr th:only-of-type {\n",
              "        vertical-align: middle;\n",
              "    }\n",
              "\n",
              "    .dataframe tbody tr th {\n",
              "        vertical-align: top;\n",
              "    }\n",
              "\n",
              "    .dataframe thead th {\n",
              "        text-align: right;\n",
              "    }\n",
              "</style>\n",
              "<table border=\"1\" class=\"dataframe\">\n",
              "  <thead>\n",
              "    <tr style=\"text-align: right;\">\n",
              "      <th></th>\n",
              "      <th>Split</th>\n",
              "      <th>Coeff of X1</th>\n",
              "      <th>Coeff of X2</th>\n",
              "      <th>Coeff of X3</th>\n",
              "      <th>Intercept</th>\n",
              "      <th>Classification Error</th>\n",
              "    </tr>\n",
              "  </thead>\n",
              "  <tbody>\n",
              "    <tr>\n",
              "      <th>0</th>\n",
              "      <td>0.1</td>\n",
              "      <td>0.021403</td>\n",
              "      <td>0.015746</td>\n",
              "      <td>0.084388</td>\n",
              "      <td>-3.512218</td>\n",
              "      <td>0.225806</td>\n",
              "    </tr>\n",
              "    <tr>\n",
              "      <th>1</th>\n",
              "      <td>0.2</td>\n",
              "      <td>0.028975</td>\n",
              "      <td>-0.030789</td>\n",
              "      <td>0.083876</td>\n",
              "      <td>-1.109364</td>\n",
              "      <td>0.306452</td>\n",
              "    </tr>\n",
              "    <tr>\n",
              "      <th>2</th>\n",
              "      <td>0.3</td>\n",
              "      <td>0.029250</td>\n",
              "      <td>0.003499</td>\n",
              "      <td>0.076756</td>\n",
              "      <td>-3.065256</td>\n",
              "      <td>0.228261</td>\n",
              "    </tr>\n",
              "    <tr>\n",
              "      <th>3</th>\n",
              "      <td>0.4</td>\n",
              "      <td>0.030939</td>\n",
              "      <td>-0.048479</td>\n",
              "      <td>0.082481</td>\n",
              "      <td>-0.000726</td>\n",
              "      <td>0.260163</td>\n",
              "    </tr>\n",
              "  </tbody>\n",
              "</table>\n",
              "</div>"
            ],
            "text/plain": [
              "   Split  Coeff of X1  ...  Intercept  Classification Error\n",
              "0    0.1     0.021403  ...  -3.512218              0.225806\n",
              "1    0.2     0.028975  ...  -1.109364              0.306452\n",
              "2    0.3     0.029250  ...  -3.065256              0.228261\n",
              "3    0.4     0.030939  ...  -0.000726              0.260163\n",
              "\n",
              "[4 rows x 6 columns]"
            ]
          },
          "metadata": {}
        }
      ],
      "metadata": {
        "colab": {
          "base_uri": "https://localhost:8080/",
          "height": 175
        },
        "id": "XIqUWa_Dz7TQ",
        "outputId": "61a15f44-0b76-4ecd-94ca-c14a9480f49e"
      }
    },
    {
      "cell_type": "markdown",
      "source": [
        "---\n",
        "---"
      ],
      "metadata": {
        "id": "dNvZ-EjV2mtG"
      }
    }
  ]
}